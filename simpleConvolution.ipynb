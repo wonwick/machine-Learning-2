{
  "nbformat": 4,
  "nbformat_minor": 0,
  "metadata": {
    "colab": {
      "name": "simpleConvolution",
      "provenance": [],
      "collapsed_sections": [],
      "authorship_tag": "ABX9TyOmdJ1EH70An9ijkTWbKsSt",
      "include_colab_link": true
    },
    "kernelspec": {
      "name": "python3",
      "display_name": "Python 3"
    }
  },
  "cells": [
    {
      "cell_type": "markdown",
      "metadata": {
        "id": "view-in-github",
        "colab_type": "text"
      },
      "source": [
        "<a href=\"https://colab.research.google.com/github/wonwick/machine-Learning-2/blob/main/simpleConvolution.ipynb\" target=\"_parent\"><img src=\"https://colab.research.google.com/assets/colab-badge.svg\" alt=\"Open In Colab\"/></a>"
      ]
    },
    {
      "cell_type": "code",
      "metadata": {
        "id": "T-KKg6XKuCwo"
      },
      "source": [
        "import matplotlib.pyplot as plt\n",
        "import tensorflow as tf"
      ],
      "execution_count": null,
      "outputs": []
    },
    {
      "cell_type": "code",
      "metadata": {
        "id": "Y-GaKfAC136z"
      },
      "source": [
        "mnist = tf.keras.datasets.fashion_mnist\n",
        "(training_images, training_labels), (test_images, test_labels) = mnist.load_data()"
      ],
      "execution_count": null,
      "outputs": []
    },
    {
      "cell_type": "markdown",
      "metadata": {
        "id": "lr0SjPs2uEl9"
      },
      "source": [
        "\n",
        "\n",
        "```\n",
        "# check your own convolutions\n",
        "```\n",
        "\n"
      ]
    },
    {
      "cell_type": "code",
      "metadata": {
        "id": "akmKdb0oeOka"
      },
      "source": [
        "class MyConvolution():\n",
        "  cm=[]\n",
        "\n",
        "  def __init__(self, convolution): \n",
        "    self.cm = convolution\n",
        "  \n",
        "  # def __init__(self): \n",
        "  #   self.cm=[[1,1,1],\n",
        "  #            [1,1,1],\n",
        "  #            [1,1,1]]\n",
        "\n",
        "  def convoluteImage(self,image):\n",
        "    newImage=image.copy()\n",
        "    height=len(newImage)\n",
        "    width=len(newImage[0])\n",
        "    for i in range(height):\n",
        "      for j in range(width):\n",
        "        if ((i>0) and (i<height-1) and (j>0) and (j<width-1)):\n",
        "          newImage[i][j]=(\n",
        "              (image[i-1][j+1]) *(self.cm[0][0]))+(\n",
        "              (image[i][j+1])   *(self.cm[0][1]))+(\n",
        "              (image[i+1][j+1]) *(self.cm[0][2]))+(\n",
        "              (image[i-1][j])   *(self.cm[1][0]))+(\n",
        "              (image[i][j])     *(self.cm[1][1]))+(\n",
        "              (image[i+1][j])   *(self.cm[1][2]))+(\n",
        "              (image[i-1][j-1]) *(self.cm[2][0]))+(\n",
        "              (image[i][j-1])   *(self.cm[2][1]))+(\n",
        "              (image[i+1][j-1]) *(self.cm[2][2]))\n",
        "    # print(newImage)\n",
        "    return newImage\n"
      ],
      "execution_count": null,
      "outputs": []
    },
    {
      "cell_type": "code",
      "metadata": {
        "id": "hEYXf6Ztug9l"
      },
      "source": [
        "h=[[-1,0,1],\n",
        "   [-2,0,2],\n",
        "   [-1,0,1]]\n",
        "\n",
        "v=[[-1,-2,-1],\n",
        "   [0,0,0],\n",
        "   [1,2,1]]\n",
        "  \n",
        "asd=[[1,1,1],\n",
        "   [1,1,1],\n",
        "   [1,1,1]]\n",
        "\n",
        "customConvoution=MyConvolution(h)\n",
        "newImage=customConvoution.convoluteImage( training_images[0] )\n",
        "plt.imshow(newImage)"
      ],
      "execution_count": null,
      "outputs": []
    }
  ]
}