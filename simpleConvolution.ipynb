{
  "nbformat": 4,
  "nbformat_minor": 0,
  "metadata": {
    "colab": {
      "name": "simpleConvolution",
      "provenance": [],
      "collapsed_sections": [],
      "authorship_tag": "ABX9TyNgg8/4PGxnWSDFVlnuGLtz",
      "include_colab_link": true
    },
    "kernelspec": {
      "name": "python3",
      "display_name": "Python 3"
    }
  },
  "cells": [
    {
      "cell_type": "markdown",
      "metadata": {
        "id": "view-in-github",
        "colab_type": "text"
      },
      "source": [
        "<a href=\"https://colab.research.google.com/github/wonwick/machine-Learning-2/blob/main/simpleConvolution.ipynb\" target=\"_parent\"><img src=\"https://colab.research.google.com/assets/colab-badge.svg\" alt=\"Open In Colab\"/></a>"
      ]
    },
    {
      "cell_type": "code",
      "metadata": {
        "id": "T-KKg6XKuCwo"
      },
      "source": [
        "import matplotlib.pyplot as plt"
      ],
      "execution_count": null,
      "outputs": []
    },
    {
      "cell_type": "markdown",
      "metadata": {
        "id": "lr0SjPs2uEl9"
      },
      "source": [
        "\n",
        "\n",
        "```\n",
        "# check your own convolutions\n",
        "```\n",
        "\n"
      ]
    },
    {
      "cell_type": "code",
      "metadata": {
        "id": "akmKdb0oeOka"
      },
      "source": [
        "class MyConvolution():\n",
        "  cm=[]\n",
        "\n",
        "  def __init__(self, convolution): \n",
        "    self.cm = convolution\n",
        "  \n",
        "  def __init__(self): \n",
        "    self.cm=[[1,1,1],\n",
        "             [1,1,1],\n",
        "             [1,1,1]]\n",
        "\n",
        "  def convoluteImage(self,image):\n",
        "    newImage=image.copy()\n",
        "    height=len(newImage)\n",
        "    width=len(newImage[0])\n",
        "    for i in range(height):\n",
        "      for j in range(width):\n",
        "        if ((i>0) and (i<height-1) and (j>0) and (j<width-1)):\n",
        "          newImage[i][j]=(\n",
        "              (image[i-1][j+1]) *(self.cm[0][0]))+(\n",
        "              (image[i][j+1])   *(self.cm[0][1]))+(\n",
        "              (image[i+1][j+1]) *(self.cm[0][2]))+(\n",
        "              (image[i-1][j])   *(self.cm[1][0]))+(\n",
        "              (image[i][j])     *(self.cm[1][1]))+(\n",
        "              (image[i+1][j])   *(self.cm[1][2]))+(\n",
        "              (image[i-1][j-1]) *(self.cm[2][0]))+(\n",
        "              (image[i][j-1])   *(self.cm[2][1]))+(\n",
        "              (image[i+1][j-1]) *(self.cm[2][2]))\n",
        "    # print(newImage)\n",
        "    return newImage\n"
      ],
      "execution_count": null,
      "outputs": []
    },
    {
      "cell_type": "code",
      "metadata": {
        "id": "hEYXf6Ztug9l",
        "outputId": "e474dd43-cbfb-499e-ec9a-7ee253fec554",
        "colab": {
          "base_uri": "https://localhost:8080/",
          "height": 231
        }
      },
      "source": [
        "customConvoution=MyConvolution()\n",
        "newImage=customConvoution.convoluteImage( \n",
        "    # imageToBeConvoluted\n",
        "    )\n",
        "plt.imshow(newImage)"
      ],
      "execution_count": null,
      "outputs": [
        {
          "output_type": "error",
          "ename": "TypeError",
          "evalue": "ignored",
          "traceback": [
            "\u001b[0;31m---------------------------------------------------------------------------\u001b[0m",
            "\u001b[0;31mTypeError\u001b[0m                                 Traceback (most recent call last)",
            "\u001b[0;32m<ipython-input-5-76d22a9d3986>\u001b[0m in \u001b[0;36m<module>\u001b[0;34m()\u001b[0m\n\u001b[1;32m      1\u001b[0m \u001b[0mcustomConvoution\u001b[0m\u001b[0;34m=\u001b[0m\u001b[0mMyConvolution\u001b[0m\u001b[0;34m(\u001b[0m\u001b[0;34m)\u001b[0m\u001b[0;34m\u001b[0m\u001b[0;34m\u001b[0m\u001b[0m\n\u001b[0;32m----> 2\u001b[0;31m newImage=customConvoution.convoluteImage( \n\u001b[0m\u001b[1;32m      3\u001b[0m     \u001b[0;31m# imageToBeConvoluted\u001b[0m\u001b[0;34m\u001b[0m\u001b[0;34m\u001b[0m\u001b[0;34m\u001b[0m\u001b[0m\n\u001b[1;32m      4\u001b[0m     )\n\u001b[1;32m      5\u001b[0m \u001b[0mplt\u001b[0m\u001b[0;34m.\u001b[0m\u001b[0mimshow\u001b[0m\u001b[0;34m(\u001b[0m\u001b[0mnewImage\u001b[0m\u001b[0;34m)\u001b[0m\u001b[0;34m\u001b[0m\u001b[0;34m\u001b[0m\u001b[0m\n",
            "\u001b[0;31mTypeError\u001b[0m: convoluteImage() missing 1 required positional argument: 'image'"
          ]
        }
      ]
    }
  ]
}